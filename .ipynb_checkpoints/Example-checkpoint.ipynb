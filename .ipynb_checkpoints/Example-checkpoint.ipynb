{
 "cells": [
  {
   "cell_type": "markdown",
   "metadata": {
    "slideshow": {
     "slide_type": "notes"
    }
   },
   "source": [
    "# ...\n",
    "\n",
    "...<br>\n",
    "\n",
    "Author(s): *Martin Fränzl*"
   ]
  },
  {
   "cell_type": "markdown",
   "metadata": {},
   "source": [
    "## Required Packages"
   ]
  },
  {
   "cell_type": "code",
   "execution_count": 1,
   "metadata": {},
   "outputs": [],
   "source": [
    "import numpy as np\n",
    "pi = np.pi\n",
    "import matplotlib.pyplot as plt\n",
    "%matplotlib inline\n",
    "\n",
    "#import fnmatch\n",
    "#import sys, os\n",
    "import importlib\n",
    "\n",
    "import pqreader.pqreader as pq\n",
    "importlib.reload(pq)\n",
    "\n",
    "from nptdms import TdmsFile # this library is needed to load TDMS files\n",
    "import glob\n",
    "\n",
    "from skimage.measure import profile_line "
   ]
  },
  {
   "cell_type": "code",
   "execution_count": null,
   "metadata": {},
   "outputs": [],
   "source": [
    "hist1, bins1, _ = pq.thd_reader('Data/IRF.thd')\n",
    "hist2, bins2, _ = pq.thd_reader('Data/Nile_Blue_in_Glycerol.thd')"
   ]
  },
  {
   "cell_type": "code",
   "execution_count": null,
   "metadata": {},
   "outputs": [],
   "source": [
    "fig, ax = plt.subplots(1, 1, figsize=(7,5))\n",
    "ax.semilogy(bins1*1e9, hist1, 'k', label='Excitation (IRF?)')\n",
    "ax.semilogy(bins2*1e9, hist2, 'b', label='Nile Blue in Glycerol')\n",
    "ax.set_xlim(0, 30)\n",
    "ax.set_ylim(5)\n",
    "ax.set_xlabel('Time [ns]')\n",
    "ax.set_xlabel('Intensity [counts]')\n",
    "ax.legend();"
   ]
  },
  {
   "cell_type": "code",
   "execution_count": null,
   "metadata": {},
   "outputs": [],
   "source": [
    "plt.rcParams.update({'font.size' : 14,\n",
    "                     'axes.labelpad' : 10,\n",
    "                     'xtick.major.pad': 8,\n",
    "                     'xtick.major.size': 6,\n",
    "                     'xtick.major.width': 1,\n",
    "                     'ytick.major.size': 6,\n",
    "                     'ytick.major.width': 1,\n",
    "                     'xtick.minor.size': 3,\n",
    "                     'xtick.minor.width': 1,\n",
    "                     'ytick.minor.size': 3,\n",
    "                     'ytick.minor.width': 1,\n",
    "                     'axes.linewidth': 1,\n",
    "                     'xtick.top' : True,\n",
    "                     'xtick.direction' : 'in',\n",
    "                     'ytick.right' : True,\n",
    "                     'ytick.direction' : 'in',\n",
    "                     'lines.linewidth' : 1.5,})"
   ]
  },
  {
   "cell_type": "markdown",
   "metadata": {},
   "source": [
    "## Load T3R Files from PicoQuant"
   ]
  },
  {
   "cell_type": "code",
   "execution_count": null,
   "metadata": {},
   "outputs": [],
   "source": [
    "timestamps, detectors, nanotimes, metadata = t3r_loader('Test.t3r')"
   ]
  },
  {
   "cell_type": "code",
   "execution_count": null,
   "metadata": {},
   "outputs": [],
   "source": [
    "metadata['header'][0]"
   ]
  },
  {
   "cell_type": "code",
   "execution_count": null,
   "metadata": {},
   "outputs": [],
   "source": []
  }
 ],
 "metadata": {
  "anaconda-cloud": {},
  "kernelspec": {
   "display_name": "Python 3",
   "language": "python",
   "name": "python3"
  },
  "language_info": {
   "codemirror_mode": {
    "name": "ipython",
    "version": 3
   },
   "file_extension": ".py",
   "mimetype": "text/x-python",
   "name": "python",
   "nbconvert_exporter": "python",
   "pygments_lexer": "ipython3",
   "version": "3.6.5"
  },
  "varInspector": {
   "cols": {
    "lenName": 16,
    "lenType": 16,
    "lenVar": 40
   },
   "kernels_config": {
    "python": {
     "delete_cmd_postfix": "",
     "delete_cmd_prefix": "del ",
     "library": "var_list.py",
     "varRefreshCmd": "print(var_dic_list())"
    },
    "r": {
     "delete_cmd_postfix": ") ",
     "delete_cmd_prefix": "rm(",
     "library": "var_list.r",
     "varRefreshCmd": "cat(var_dic_list()) "
    }
   },
   "types_to_exclude": [
    "module",
    "function",
    "builtin_function_or_method",
    "instance",
    "_Feature"
   ],
   "window_display": false
  }
 },
 "nbformat": 4,
 "nbformat_minor": 2
}
